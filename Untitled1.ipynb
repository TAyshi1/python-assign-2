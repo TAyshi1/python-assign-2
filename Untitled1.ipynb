{
 "cells": [
  {
   "cell_type": "code",
   "execution_count": 9,
   "id": "d85b0267",
   "metadata": {},
   "outputs": [
    {
     "name": "stdout",
     "output_type": "stream",
     "text": [
      "x =  5\n",
      "y =  10\n"
     ]
    }
   ],
   "source": [
    "#SwapTwoVariables\n",
    "\n",
    "x = 10\n",
    "y = 5\n",
    "          \n",
    "x, y= y, x\n",
    "print(\"x = \",x)\n",
    "print(\"y = \",y)"
   ]
  },
  {
   "cell_type": "code",
   "execution_count": 15,
   "id": "b0c681de",
   "metadata": {},
   "outputs": [
    {
     "name": "stdout",
     "output_type": "stream",
     "text": [
      "Enter a length: 10\n",
      "Enter a width: 5\n",
      "Area of rectangle: 50 \n"
     ]
    }
   ],
   "source": [
    "#AreaOfRectangle\n",
    "\n",
    "length = int(input('Enter a length: '))\n",
    "width = int(input('Enter a width: '))\n",
    "\n",
    "area_of_rectangle = (length * width)\n",
    "\n",
    "print (f'Area of rectangle: {area_of_rectangle} ')"
   ]
  },
  {
   "cell_type": "code",
   "execution_count": 17,
   "id": "e7f0aa71",
   "metadata": {},
   "outputs": [
    {
     "name": "stdout",
     "output_type": "stream",
     "text": [
      "Enter temperature in fahrenheit: 54\n",
      "Temperature in Celcius is: 12.222222222222221 \n"
     ]
    }
   ],
   "source": [
    "#FahrenheitToCelcius\n",
    "\n",
    "fahrenheit = int(input('Enter temperature in fahrenheit: '))\n",
    "celcius = ((fahrenheit-32)*5)/9\n",
    "print(f'Temperature in Celcius is: {celcius} ')"
   ]
  },
  {
   "cell_type": "code",
   "execution_count": 19,
   "id": "03185157",
   "metadata": {},
   "outputs": [
    {
     "name": "stdout",
     "output_type": "stream",
     "text": [
      "Volume of a sphere: 523.5999999999999\n"
     ]
    }
   ],
   "source": [
    "#VolumeOFSphere\n",
    "\n",
    "pi = 3.1416\n",
    "r = 5\n",
    "V= 4/3 * pi * r**3\n",
    "\n",
    "print(f'Volume of a sphere: {V}')"
   ]
  },
  {
   "cell_type": "code",
   "execution_count": 20,
   "id": "e0da8b62",
   "metadata": {},
   "outputs": [
    {
     "name": "stdout",
     "output_type": "stream",
     "text": [
      "22.333333333333332\n"
     ]
    }
   ],
   "source": [
    "#AverageOf3Num\n",
    "n1 = 10\n",
    "n2 = 25\n",
    "n3 = 32\n",
    "\n",
    "Avg = (n1 + n2 + n3) / 3\n",
    "\n",
    "print(Avg)"
   ]
  },
  {
   "cell_type": "code",
   "execution_count": 23,
   "id": "4a33db5c",
   "metadata": {},
   "outputs": [
    {
     "name": "stdout",
     "output_type": "stream",
     "text": [
      "This is a even number\n"
     ]
    }
   ],
   "source": [
    "x = 10\n",
    "\n",
    "if x%2 == 0:\n",
    "    print('This is a even number')\n",
    "else:\n",
    "    print('This is an odd number')"
   ]
  },
  {
   "cell_type": "code",
   "execution_count": 24,
   "id": "a36e94f0",
   "metadata": {},
   "outputs": [
    {
     "name": "stdout",
     "output_type": "stream",
     "text": [
      "14\n"
     ]
    }
   ],
   "source": [
    "a = 10\n",
    "b = 5\n",
    "c= 14\n",
    "\n",
    "if (a >= b) and (a >=c):\n",
    "    MaxValue = a\n",
    "    \n",
    "elif (b >= a) and (b >= c):\n",
    "    MaxValue = b\n",
    "    \n",
    "else:\n",
    "    MaxValue = c\n",
    "    \n",
    "print (MaxValue)"
   ]
  },
  {
   "cell_type": "code",
   "execution_count": 25,
   "id": "73bb8117",
   "metadata": {},
   "outputs": [
    {
     "name": "stdout",
     "output_type": "stream",
     "text": [
      "Enter a year: 2024\n",
      "2024 is a leap year\n"
     ]
    }
   ],
   "source": [
    "year = int(input('Enter a year: '))\n",
    "\n",
    "if (year % 400 == 0) and (year % 100 == 0):\n",
    "    print(f'{year} is a leap year' )\n",
    "    \n",
    "elif (year % 4 == 0) and (year % 100 != 0):\n",
    "    print (f'{year} is a leap year')\n",
    "\n",
    "else:\n",
    "    print (f'{year} is not a leap year')"
   ]
  },
  {
   "cell_type": "code",
   "execution_count": 33,
   "id": "5d9daea4",
   "metadata": {},
   "outputs": [
    {
     "name": "stdout",
     "output_type": "stream",
     "text": [
      "Enter a number: -8\n",
      "negative number.\n"
     ]
    }
   ],
   "source": [
    "num = int(input('Enter a number: '))\n",
    "\n",
    "if num >= 0:\n",
    "    if num == 0:\n",
    "        print (\"Zero!\")\n",
    "    else:\n",
    "        print (\"positive number.\")\n",
    "else:\n",
    "    print (\"negative number.\")"
   ]
  },
  {
   "cell_type": "code",
   "execution_count": 40,
   "id": "f0508a21",
   "metadata": {},
   "outputs": [
    {
     "name": "stdout",
     "output_type": "stream",
     "text": [
      "Enter your marks: 87.5\n",
      "A+\n"
     ]
    }
   ],
   "source": [
    "marks = float (input('Enter your marks: '))\n",
    "\n",
    "if marks >= 80:\n",
    "    print(\"A+\")\n",
    "elif marks >= 70 and marks < 80:\n",
    "    print (\"A\")\n",
    "elif marks >= 60 and marks < 70:\n",
    "    print (\"A-\")\n",
    "elif marks >= 50 and marks < 60:\n",
    "    print (\"C\")\n",
    "elif marks >= 40 and marks < 33:\n",
    "    print (\"D\")\n",
    "else:\n",
    "    print (\"F\")\n",
    "    "
   ]
  },
  {
   "cell_type": "code",
   "execution_count": 63,
   "id": "d205f502",
   "metadata": {},
   "outputs": [
    {
     "name": "stdout",
     "output_type": "stream",
     "text": [
      "1\n",
      "2\n",
      "3\n",
      "4\n",
      "5\n",
      "6\n",
      "7\n",
      "8\n",
      "9\n",
      "10\n",
      "11\n",
      "12\n",
      "13\n",
      "14\n"
     ]
    }
   ],
   "source": [
    "def num(n):\n",
    "\n",
    " for i in range (1,n):\n",
    "    print (i)\n",
    "    \n",
    "num (15)"
   ]
  },
  {
   "cell_type": "code",
   "execution_count": 47,
   "id": "612caf8b",
   "metadata": {},
   "outputs": [
    {
     "name": "stdout",
     "output_type": "stream",
     "text": [
      "Enter a number: 6\n",
      "The factorial of 6 is 720\n"
     ]
    }
   ],
   "source": [
    "num = int(input(\"Enter a number: \"))\n",
    "\n",
    "factorial = 1\n",
    "\n",
    "if num < 0:\n",
    "    print(\"Sorry, factorial doesn't exist for negative number!\")\n",
    "elif num == 0:\n",
    "    print (\"The factorial of 0 is 1\")\n",
    "else: \n",
    "    for i in range (1, num+1):\n",
    "        factorial = factorial*i\n",
    "        \n",
    "    print(\"The factorial of\",num,\"is\",factorial)"
   ]
  },
  {
   "cell_type": "code",
   "execution_count": 92,
   "id": "827696a9",
   "metadata": {},
   "outputs": [
    {
     "name": "stdout",
     "output_type": "stream",
     "text": [
      "0\n",
      "1\n",
      "1\n",
      "2\n",
      "3\n",
      "5\n",
      "8\n",
      "13\n",
      "21\n",
      "34\n"
     ]
    }
   ],
   "source": [
    "def fib(n):\n",
    "    a = 0\n",
    "    b = 1\n",
    "    \n",
    "    if n == 1:\n",
    "            print(a)\n",
    "\n",
    "    else:\n",
    "            print(a)\n",
    "            print(b)\n",
    "\n",
    "            for i in range (2,n):\n",
    "                c = a + b\n",
    "                a = b\n",
    "                b = c\n",
    "                print(c)\n",
    "\n",
    "fib(10)"
   ]
  },
  {
   "cell_type": "code",
   "execution_count": 115,
   "id": "8d80a22c",
   "metadata": {},
   "outputs": [
    {
     "name": "stdout",
     "output_type": "stream",
     "text": [
      "Enter a string: level\n",
      "Palindrome\n"
     ]
    }
   ],
   "source": [
    "word = input(\"Enter a string: \")\n",
    "length = len(word)\n",
    "isPalindrome = False\n",
    "i = 0\n",
    "while i < int(length/2):\n",
    "    \n",
    "    if word[i] != word[length-1-i]:\n",
    "        isPalindrome = False\n",
    "    else:\n",
    "        isPalindrome = True\n",
    "    i+=1\n",
    "    \n",
    "if isPalindrome:\n",
    "    print(\"Palindrome\")\n",
    "else:\n",
    "    print(\"Not Palindrome\")\n",
    "    \n"
   ]
  },
  {
   "cell_type": "code",
   "execution_count": 121,
   "id": "141fcd77",
   "metadata": {},
   "outputs": [
    {
     "name": "stdout",
     "output_type": "stream",
     "text": [
      "Enter a number: 2\n",
      "2 is a prime number\n"
     ]
    }
   ],
   "source": [
    "num = int(input('Enter a number: '))\n",
    "\n",
    "if num > 1:\n",
    "    for i in range(2, int(num/2)+1):\n",
    "        if (num % i)==0:\n",
    "            print(num, 'is not a prime number')\n",
    "            break\n",
    "    else:\n",
    "        print(num, 'is a prime number')\n",
    "else:\n",
    "    print(num, 'is not a prime number')"
   ]
  },
  {
   "cell_type": "code",
   "execution_count": 134,
   "id": "4c555ef4",
   "metadata": {},
   "outputs": [
    {
     "name": "stdout",
     "output_type": "stream",
     "text": [
      "Display the multiplication table of? 12\n",
      "12 X 1 = 12\n",
      "12 X 2 = 24\n",
      "12 X 3 = 36\n",
      "12 X 4 = 48\n",
      "12 X 5 = 60\n",
      "12 X 6 = 72\n",
      "12 X 7 = 84\n",
      "12 X 8 = 96\n",
      "12 X 9 = 108\n",
      "12 X 10 = 120\n"
     ]
    }
   ],
   "source": [
    "num = int(input('Display the multiplication table of? '))\n",
    "\n",
    "for i in range(1,11):\n",
    "    print(num, 'X', i, '=', num*i)\n",
    "    "
   ]
  },
  {
   "cell_type": "code",
   "execution_count": 161,
   "id": "ad2179dd",
   "metadata": {},
   "outputs": [
    {
     "name": "stdout",
     "output_type": "stream",
     "text": [
      "Sum of all even numbers: 4\n"
     ]
    }
   ],
   "source": [
    "def num(n):\n",
    "    sum = 0\n",
    "    \n",
    "    i = 0\n",
    "    while i <= n:\n",
    "        if i % 2 == 0:\n",
    "  \n",
    "            sum+= 1\n",
    "        i+=1\n",
    "    \n",
    "\n",
    "    print(f'Sum of all even numbers: {sum}')\n",
    "\n",
    "num(6)"
   ]
  },
  {
   "cell_type": "code",
   "execution_count": 162,
   "id": "686ff61f",
   "metadata": {},
   "outputs": [
    {
     "name": "stdout",
     "output_type": "stream",
     "text": [
      "The GCD of 50 and 45 is: \n",
      "5\n"
     ]
    }
   ],
   "source": [
    "import math\n",
    "\n",
    "print('The GCD of 50 and 45 is: ')\n",
    "print(math.gcd(50,45))"
   ]
  },
  {
   "cell_type": "code",
   "execution_count": 164,
   "id": "589a7c7d",
   "metadata": {},
   "outputs": [
    {
     "name": "stdout",
     "output_type": "stream",
     "text": [
      "Reversed Number: 749342\n"
     ]
    }
   ],
   "source": [
    "num = 243947\n",
    "reversed_num = 0\n",
    "\n",
    "while num != 0:\n",
    "    digit = num % 10\n",
    "    reversed_num = reversed_num * 10 + digit\n",
    "    num //= 10\n",
    "print(f'Reversed Number: {reversed_num}')\n",
    "\n",
    "\n"
   ]
  },
  {
   "cell_type": "code",
   "execution_count": null,
   "id": "d6198834",
   "metadata": {},
   "outputs": [],
   "source": []
  }
 ],
 "metadata": {
  "kernelspec": {
   "display_name": "Python 3 (ipykernel)",
   "language": "python",
   "name": "python3"
  },
  "language_info": {
   "codemirror_mode": {
    "name": "ipython",
    "version": 3
   },
   "file_extension": ".py",
   "mimetype": "text/x-python",
   "name": "python",
   "nbconvert_exporter": "python",
   "pygments_lexer": "ipython3",
   "version": "3.11.5"
  }
 },
 "nbformat": 4,
 "nbformat_minor": 5
}
